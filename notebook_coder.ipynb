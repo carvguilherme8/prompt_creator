{
 "cells": [
  {
   "cell_type": "code",
   "execution_count": 1,
   "metadata": {},
   "outputs": [],
   "source": [
    "from scripts_coder import *\n",
    "from openai import OpenAI\n",
    "from pydantic import BaseModel, Field\n",
    "from typing import List\n",
    "import instructor\n",
    "import json\n",
    "\n",
    "class Prompts(BaseModel):\n",
    "    prompt: str \n",
    "\n",
    "client = instructor.from_openai(\n",
    "    OpenAI(\n",
    "        base_url=\"http://localhost:11434/v1\",\n",
    "        api_key=\"ollama\",  \n",
    "    ),\n",
    "    mode=instructor.Mode.JSON,\n",
    ")\n",
    "\n",
    "\n",
    "def get_difficulty(i):\n",
    "    if i == 1:\n",
    "        return [\"pandas\"] \n",
    "    elif i == 2:\n",
    "        return [\"pandas\", \"numpy\"] \n",
    "    elif i == 3:\n",
    "        return [\"pandas\", \"pyjanitor\"]  \n",
    "    elif i == 4:\n",
    "        return [\"pandas\", \"dask\"]\n",
    "    elif i == 5:\n",
    "        return [\"pandas\", \"dask\", \"sqlalchemy\"]  \n",
    "    else:\n",
    "        return None\n",
    "\n",
    "\n",
    "def create_first_prompt(propriedade):\n",
    "    prompts = []\n",
    "    resp = client.chat.completions.create(\n",
    "        model=\"gemma2:2b\",\n",
    "        messages=[  \n",
    "            {\n",
    "                \"role\": \"user\",\n",
    "                \"content\": f\"Imagine you are a human asking a language model to return Python code for cleaning a \\\n",
    "                    dirty CSV file. Create a prompt to request this code with a poor {propriedade} \\\n",
    "                    (rated 1 on a scale of 5). Do not include examples or fields to complete; focus on \\\n",
    "                    delivering a prompt that reflects a poor {propriedade} as described.\"\n",
    "            }\n",
    "        ],\n",
    "        response_model=Prompts,\n",
    "    )\n",
    "\n",
    "    prompt = resp.prompt\n",
    "    prompts_formated = {\"propriedade\": propriedade, \"valor\": 1, \"prompt\": prompt}\n",
    "\n",
    "    return prompts_formated\n",
    "\n",
    "def create_following_prompts(previous_prompt, message):\n",
    "    \n",
    "    resp = client.chat.completions.create(\n",
    "        model=\"gemma2:2b\",\n",
    "        messages=[\n",
    "            {\n",
    "                \"role\": \"user\",\n",
    "                \"content\": f\"{message}: {previous_prompt[\"prompt\"]}\",  \n",
    "            }\n",
    "        ],\n",
    "        response_model=Prompts,\n",
    "    )\n",
    "    prompt = resp.prompt\n",
    "    prompts_formated = {\"propriedade\": previous_prompt[\"propriedade\"], \"valor\": previous_prompt[\"valor\"] + 1, \"prompt\": prompt}\n",
    "\n",
    "    return prompts_formated\n",
    "\n",
    "def create_complexity_prompts(i):\n",
    "    resp = client.chat.completions.create(\n",
    "        model=\"gemma2:2b\",\n",
    "        messages=[  \n",
    "            {\n",
    "                \"role\": \"user\",\n",
    "                \"content\": f\"Imagine you are a human asking a language model to return Python code for cleaning a \\\n",
    "                    dirty CSV file. Create a prompt to request this code and also request that it must contain\\\n",
    "                    the following libraries {get_difficulty(i)}.\"\n",
    "            }\n",
    "        ],\n",
    "        response_model=Prompts,\n",
    "    )\n",
    "\n",
    "    prompt = resp.prompt\n",
    "    prompts_formated = {\"propriedade\": \"complecity\", \"valor\": i, \"prompt\": prompt}\n",
    "\n",
    "    return prompts_formated\n",
    "\n",
    "    \n",
    "def add_prompt_to_json(propriedade, prompts):\n",
    "    json_filename = f'prompts_{propriedade}_coder.json'\n",
    "    with open(json_filename, 'w', encoding='utf-8') as json_file:\n",
    "        json.dump(prompts, json_file, ensure_ascii=False, indent=2)\n"
   ]
  },
  {
   "cell_type": "markdown",
   "metadata": {},
   "source": [
    "### Clarity for Coder"
   ]
  },
  {
   "cell_type": "code",
   "execution_count": 10,
   "metadata": {},
   "outputs": [
    {
     "data": {
      "text/plain": [
       "{'propriedade': 'clarity',\n",
       " 'valor': 1,\n",
       " 'prompt': 'I gotta clean up this messed-up CSV file...  Python, please! 🥺'}"
      ]
     },
     "execution_count": 10,
     "metadata": {},
     "output_type": "execute_result"
    }
   ],
   "source": [
    "prompt_1_clarity = create_first_prompt(\"clarity\")\n",
    "prompt_1_clarity"
   ]
  },
  {
   "cell_type": "code",
   "execution_count": 16,
   "metadata": {},
   "outputs": [
    {
     "data": {
      "text/plain": [
       "{'propriedade': 'clarity',\n",
       " 'valor': 2,\n",
       " 'prompt': 'I need help cleaning up this messy CSV file using Python. Can you write a script that can handle the cleaning and data manipulation tasks efficiently?'}"
      ]
     },
     "execution_count": 16,
     "metadata": {},
     "output_type": "execute_result"
    }
   ],
   "source": [
    "message = \"I found this prompt not very clear to understand, plase make it a BIT more clearer\"\n",
    "prompt_2_clarity = create_following_prompts(prompt_1_clarity, message)\n",
    "prompt_2_clarity"
   ]
  },
  {
   "cell_type": "code",
   "execution_count": 17,
   "metadata": {},
   "outputs": [
    {
     "data": {
      "text/plain": [
       "{'propriedade': 'clarity',\n",
       " 'valor': 3,\n",
       " 'prompt': 'I need help cleaning up this messy CSV file using Python. You need to create a Python script that can clean and manipulate it efficiently. The file is currently unorganized and needs to be properly formatted.'}"
      ]
     },
     "execution_count": 17,
     "metadata": {},
     "output_type": "execute_result"
    }
   ],
   "source": [
    "prompt_3_clarity = create_following_prompts(prompt_2_clarity, message)\n",
    "prompt_3_clarity"
   ]
  },
  {
   "cell_type": "code",
   "execution_count": 18,
   "metadata": {},
   "outputs": [
    {
     "data": {
      "text/plain": [
       "{'propriedade': 'clarity',\n",
       " 'valor': 4,\n",
       " 'prompt': 'I need your help cleaning up a messy CSV file in Python. I want a Python script that can: \\n\\n1. **Clean the data:** Remove empty rows and fix inconsistencies.\\n2. **Format the data:** Make it properly organized with correct header labels and column formatting. '}"
      ]
     },
     "execution_count": 18,
     "metadata": {},
     "output_type": "execute_result"
    }
   ],
   "source": [
    "prompt_4_clarity = create_following_prompts(prompt_3_clarity, message)\n",
    "prompt_4_clarity"
   ]
  },
  {
   "cell_type": "code",
   "execution_count": 20,
   "metadata": {},
   "outputs": [
    {
     "data": {
      "text/plain": [
       "{'propriedade': 'clarity',\n",
       " 'valor': 5,\n",
       " 'prompt': \"I need help creating a Python script to clean up an inconsistent CSV file and format the results neatly. Here's what I envision my script doing:\\n\\n1. **Data cleaning:** Identify and remove any empty rows or cells from the data.\\n2. **Format improvement:** Put the data into a well-organized structure. Use correct header labels, define meaningful column names, and format the content to be easy to understand.\"}"
      ]
     },
     "execution_count": 20,
     "metadata": {},
     "output_type": "execute_result"
    }
   ],
   "source": [
    "prompt_5_clarity = create_following_prompts(prompt_4_clarity, message)\n",
    "prompt_5_clarity"
   ]
  },
  {
   "cell_type": "code",
   "execution_count": 23,
   "metadata": {},
   "outputs": [],
   "source": [
    "prompts_clarity = [prompt_1_clarity, prompt_2_clarity, prompt_3_clarity, prompt_4_clarity, prompt_5_clarity]\n",
    "add_prompt_to_json(\"clarity\", prompts_clarity)"
   ]
  },
  {
   "cell_type": "markdown",
   "metadata": {},
   "source": [
    "### Complexity for Coder"
   ]
  },
  {
   "cell_type": "code",
   "execution_count": 43,
   "metadata": {},
   "outputs": [
    {
     "data": {
      "text/plain": [
       "{'propriedade': 'complecity',\n",
       " 'valor': 1,\n",
       " 'prompt': 'I have a dirty CSV file that I need to clean up in Python using the pandas library.  Please provide me with code that handles tasks such as removing empty rows, filling missing values with appropriate data, and handling inconsistent data types. Can you include an example for handling missing values specifically? This should be a simple program aimed at demonstrating my intent.'}"
      ]
     },
     "execution_count": 43,
     "metadata": {},
     "output_type": "execute_result"
    }
   ],
   "source": [
    "prompt_1_complexity = create_complexity_prompts(1)\n",
    "prompt_1_complexity"
   ]
  },
  {
   "cell_type": "code",
   "execution_count": 46,
   "metadata": {},
   "outputs": [
    {
     "data": {
      "text/plain": [
       "{'propriedade': 'complecity',\n",
       " 'valor': 2,\n",
       " 'prompt': \"Can you provide me with Python code that cleans up a dirty CSV file? The code should use the 'pandas' and 'numpy' libraries. It would be helpful if it included some basic cleaning steps like handling missing values, converting formats to correct types, and checking for inconsistencies in the data. Please focus on creating a concise and well-structured script that showcases best practices.\"}"
      ]
     },
     "execution_count": 46,
     "metadata": {},
     "output_type": "execute_result"
    }
   ],
   "source": [
    "prompt_2_complexity = create_complexity_prompts(2)\n",
    "prompt_2_complexity"
   ]
  },
  {
   "cell_type": "code",
   "execution_count": 53,
   "metadata": {},
   "outputs": [
    {
     "data": {
      "text/plain": [
       "{'propriedade': 'complecity',\n",
       " 'valor': 3,\n",
       " 'prompt': \"I need Python code to clean up this messy CSV file. Please create a function or script using pandas and pyjanitor to do the following: \\n- Read in my CSV data\\n- Address inconsistencies such as missing values, incorrect formats, and any other issues that might come up\\n- Prepare the cleaned data for further processing!\\n\\nMake sure this code uses both 'pandas' and 'pyjanitor' libraries -  Thanks!\"}"
      ]
     },
     "execution_count": 53,
     "metadata": {},
     "output_type": "execute_result"
    }
   ],
   "source": [
    "prompt_3_complexity = create_complexity_prompts(3)\n",
    "prompt_3_complexity"
   ]
  },
  {
   "cell_type": "code",
   "execution_count": 54,
   "metadata": {},
   "outputs": [
    {
     "data": {
      "text/plain": [
       "{'propriedade': 'complecity',\n",
       " 'valor': 4,\n",
       " 'prompt': 'Can you provide me with some Python code to clean up a dirty CSV file using pandas and dask?  The goal is to handle common issues like missing values, inconsistent formatting, and outliers. The code should perform the cleaning step-by-step, detailing any crucial steps each library provides for data analysis. For example, how would you: \\n* Handle missing values?\\n* Convert date formats?\\n* Deal with duplicates or outliers?\\nPlease include comments to help understand your implementation.'}"
      ]
     },
     "execution_count": 54,
     "metadata": {},
     "output_type": "execute_result"
    }
   ],
   "source": [
    "prompt_4_complexity = create_complexity_prompts(4)\n",
    "prompt_4_complexity"
   ]
  },
  {
   "cell_type": "code",
   "execution_count": 55,
   "metadata": {},
   "outputs": [
    {
     "data": {
      "text/plain": [
       "{'propriedade': 'complecity',\n",
       " 'valor': 5,\n",
       " 'prompt': 'Please provide a Python script for cleaning a dirty CSV file using pandas, dask and sqlalchemy. The script should be able to: \\n1. Read the CSV.\\n2. Identify and handle missing values where appropriate.\\n3. Perform data type conversion and normalization as needed.\\n4. Optionally, use SQLAlchemy to query an external database for additional data or verification if applicable.\\n\\nSpecifically, look into potential pandas, dask functionalities, and sqlalchemy integrations for maximum efficiency.'}"
      ]
     },
     "execution_count": 55,
     "metadata": {},
     "output_type": "execute_result"
    }
   ],
   "source": [
    "prompt_5_complexity = create_complexity_prompts(5)\n",
    "prompt_5_complexity"
   ]
  },
  {
   "cell_type": "code",
   "execution_count": 56,
   "metadata": {},
   "outputs": [],
   "source": [
    "prompts_complexity = [prompt_1_complexity, prompt_2_complexity, prompt_3_complexity, prompt_4_complexity, prompt_5_complexity]\n",
    "add_prompt_to_json(\"complexity\", prompts_complexity)"
   ]
  },
  {
   "cell_type": "markdown",
   "metadata": {},
   "source": [
    "### Size for Coder"
   ]
  },
  {
   "cell_type": "code",
   "execution_count": 68,
   "metadata": {},
   "outputs": [
    {
     "data": {
      "text/plain": [
       "{'propriedade': 'size',\n",
       " 'valor': 1,\n",
       " 'prompt': 'Please provide Python code to clean a dirty CSV file.'}"
      ]
     },
     "execution_count": 68,
     "metadata": {},
     "output_type": "execute_result"
    }
   ],
   "source": [
    "prompt_1_size = create_first_prompt(\"size\")\n",
    "prompt_1_size"
   ]
  },
  {
   "cell_type": "code",
   "execution_count": 100,
   "metadata": {},
   "outputs": [
    {
     "data": {
      "text/plain": [
       "{'propriedade': 'size',\n",
       " 'valor': 2,\n",
       " 'prompt': 'Provide me with Python code that cleans a messy CSV file. This code should include steps for handling missing data, identifying and removing duplicate rows, converting columns to the correct type (e.g., Date format).  Remember any necessary libraries (Pandas or others) should be imported'}"
      ]
     },
     "execution_count": 100,
     "metadata": {},
     "output_type": "execute_result"
    }
   ],
   "source": [
    "message = \"add about 30 words to this prompt to make it bigger\"\n",
    "prompt_2_size = create_following_prompts(prompt_1_size, message)\n",
    "prompt_2_size"
   ]
  },
  {
   "cell_type": "code",
   "execution_count": 101,
   "metadata": {},
   "outputs": [
    {
     "data": {
      "text/plain": [
       "{'propriedade': 'size',\n",
       " 'valor': 3,\n",
       " 'prompt': 'I need a Python script that cleans my messy CSV file. It needs to handle missing data by using pandas techniques like imputation. The code should identify and remove duplicate rows, and convert columns like dates to the correct format.  Please make sure to mention any necessary libraries used like pandas, for example.  '}"
      ]
     },
     "execution_count": 101,
     "metadata": {},
     "output_type": "execute_result"
    }
   ],
   "source": [
    "prompt_3_size = create_following_prompts(prompt_2_size, message)\n",
    "prompt_3_size"
   ]
  },
  {
   "cell_type": "code",
   "execution_count": 102,
   "metadata": {},
   "outputs": [
    {
     "data": {
      "text/plain": [
       "{'propriedade': 'size',\n",
       " 'valor': 4,\n",
       " 'prompt': 'I need a Python script that cleans my messy CSV file (.csv) thoroughly.  It needs to account for missing data (e.g., NaN values) by using pandas features like imputation. The script should also identify and remove duplicate rows, and convert columns like dates into the proper dates format.  Additionally, it would be helpful to list the libraries used in the process such as pandas, numpy, etc.  \\n'}"
      ]
     },
     "execution_count": 102,
     "metadata": {},
     "output_type": "execute_result"
    }
   ],
   "source": [
    "prompt_4_size = create_following_prompts(prompt_3_size, message)\n",
    "prompt_4_size"
   ]
  },
  {
   "cell_type": "code",
   "execution_count": 104,
   "metadata": {},
   "outputs": [
    {
     "data": {
      "text/plain": [
       "{'propriedade': 'size',\n",
       " 'valor': 5,\n",
       " 'prompt': \"Please provide a Python script that cleans a messy CSV file (e.g., .csv), ensuring data is handled correctly: **\\n** - It should handle missing values accurately using pandas' imputation features.\\n - Identify and remove duplicate rows.\\n - Convert columns like dates into proper date format.\\n - List the libraries you used in the process (like pandas, numpy, etc.).   It's crucial to understand if there are any specific challenges during data cleaning or preprocessing that might need special consideration.  The script should demonstrate a thorough cleaning process\"}"
      ]
     },
     "execution_count": 104,
     "metadata": {},
     "output_type": "execute_result"
    }
   ],
   "source": [
    "prompt_5_size = create_following_prompts(prompt_4_size, message)\n",
    "prompt_5_size"
   ]
  },
  {
   "cell_type": "code",
   "execution_count": 105,
   "metadata": {},
   "outputs": [],
   "source": [
    "prompts_size = [prompt_1_size, prompt_2_size, prompt_3_size, prompt_4_size, prompt_5_size]\n",
    "add_prompt_to_json(\"size\", prompts_size)"
   ]
  },
  {
   "cell_type": "markdown",
   "metadata": {},
   "source": [
    "### Coder Specificity"
   ]
  },
  {
   "cell_type": "code",
   "execution_count": 3,
   "metadata": {},
   "outputs": [
    {
     "data": {
      "text/plain": [
       "{'propriedade': 'specificity',\n",
       " 'valor': 1,\n",
       " 'prompt': 'Write some python code to clean up a CSV file that has extra data, missing values etc.'}"
      ]
     },
     "execution_count": 3,
     "metadata": {},
     "output_type": "execute_result"
    }
   ],
   "source": [
    "prompt_1_specificity = create_first_prompt(\"specificity\")\n",
    "prompt_1_specificity"
   ]
  },
  {
   "cell_type": "code",
   "execution_count": 11,
   "metadata": {},
   "outputs": [
    {
     "data": {
      "text/plain": [
       "{'propriedade': 'specificity',\n",
       " 'valor': 2,\n",
       " 'prompt': \"Write some Python code to clean up a CSV file (e.g., 'data.csv') containing extra data such as unnecessary rows or columns, replace missing values with specific ones, and format the output in a way that is easy to analyze.\"}"
      ]
     },
     "execution_count": 11,
     "metadata": {},
     "output_type": "execute_result"
    }
   ],
   "source": [
    "message = \"Can you make this prompt a little more specific??\"\n",
    "prompt_2_specificity = create_following_prompts(prompt_1_specificity, message)\n",
    "prompt_2_specificity"
   ]
  },
  {
   "cell_type": "code",
   "execution_count": 13,
   "metadata": {},
   "outputs": [
    {
     "data": {
      "text/plain": [
       "{'propriedade': 'specificity',\n",
       " 'valor': 3,\n",
       " 'prompt': \"Write some Python code to clean up a CSV file ('data.csv'), removing unnecessary rows or columns (e.g., header information) and replacing missing data with specific values like 0 or NaN, then format the output for easier analysis.\\n\\nHere are some considerations:\\n - The target output file should be named 'cleaned_data.csv'.\\n - Use pandas to process the CSV. \\n  - Format the cleaned output as concise and easily analyzable data.\"}"
      ]
     },
     "execution_count": 13,
     "metadata": {},
     "output_type": "execute_result"
    }
   ],
   "source": [
    "prompt_3_specificity = create_following_prompts(prompt_2_specificity, message)\n",
    "prompt_3_specificity"
   ]
  },
  {
   "cell_type": "code",
   "execution_count": 15,
   "metadata": {},
   "outputs": [
    {
     "data": {
      "text/plain": [
       "{'propriedade': 'specificity',\n",
       " 'valor': 4,\n",
       " 'prompt': \"Write Python code to clean a CSV ('data.csv') for easier analysis, preparing the final file named 'cleaned_data.csv' .  Specifically include these steps:\\n\\n1. Remove unnecessary rows/columns including header information.\\n2. Replace missing data values with specified ones like 0 or NaN\\n3. Format the output as a concise and analyzable CSV format.\\n\\n**Tools:** Use pandas for this operation. \\n**Considerations:** target output csv file to be named 'cleaned_data.csv'.  \"}"
      ]
     },
     "execution_count": 15,
     "metadata": {},
     "output_type": "execute_result"
    }
   ],
   "source": [
    "prompt_4_specificity = create_following_prompts(prompt_3_specificity, message)\n",
    "prompt_4_specificity"
   ]
  },
  {
   "cell_type": "code",
   "execution_count": 27,
   "metadata": {},
   "outputs": [
    {
     "data": {
      "text/plain": [
       "{'propriedade': 'specificity',\n",
       " 'valor': 5,\n",
       " 'prompt': \"Write Python code using pandas to clean the 'data.csv' CSV file, prepare it for analysis. Name the final cleaned file 'cleaned_data.csv'. \\n Specifically:\\n 1. Remove unnecessary rows and columns including the header information.\\n 2. Replace missing data values with specified ones like 0 or NaN.\\n 3. Format the output as a concise and analyzable CSV format.\\n\\n Tools: Use pandas to perform this operation and use 'cleaned_data.csv' for the final file creation. \"}"
      ]
     },
     "execution_count": 27,
     "metadata": {},
     "output_type": "execute_result"
    }
   ],
   "source": [
    "prompt_5_specificity = create_following_prompts(prompt_4_specificity, message)\n",
    "prompt_5_specificity"
   ]
  },
  {
   "cell_type": "code",
   "execution_count": 28,
   "metadata": {},
   "outputs": [],
   "source": [
    "prompts_specificity = [prompt_1_specificity, prompt_2_specificity, prompt_3_specificity, prompt_4_specificity, prompt_5_specificity]\n",
    "add_prompt_to_json(\"specificity\", prompts_specificity)"
   ]
  },
  {
   "cell_type": "code",
   "execution_count": null,
   "metadata": {},
   "outputs": [],
   "source": []
  }
 ],
 "metadata": {
  "kernelspec": {
   "display_name": "Python 3",
   "language": "python",
   "name": "python3"
  },
  "language_info": {
   "codemirror_mode": {
    "name": "ipython",
    "version": 3
   },
   "file_extension": ".py",
   "mimetype": "text/x-python",
   "name": "python",
   "nbconvert_exporter": "python",
   "pygments_lexer": "ipython3",
   "version": "3.12.1"
  }
 },
 "nbformat": 4,
 "nbformat_minor": 2
}
