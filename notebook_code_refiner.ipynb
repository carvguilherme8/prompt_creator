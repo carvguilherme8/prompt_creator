{
 "cells": [
  {
   "cell_type": "code",
   "execution_count": 1,
   "metadata": {},
   "outputs": [],
   "source": [
    "import sys\n",
    "sys.path.append(\"scripts/\")\n",
    "\n",
    "from scripts_refiner import *"
   ]
  },
  {
   "cell_type": "markdown",
   "metadata": {},
   "source": [
    "## Notebook Refiner\n",
    "\n",
    "Nesse notebook vamos criar os prompts de inicialização do agente 'Code Refiner'. Os cripts se encontram em 'scripts/scripts_refiner'\n",
    "\n",
    "Abaixo teremos os prompts que foram salvos para uso, caso deseje criar prompts novos, basta rodar as células novamente.\n",
    "\n",
    "Caso opte por criar novos prompts e o resultado não o agradar, convém executar a célula novamente (execuções anteriores não influenciam a atual).\n",
    "\n",
    "O prompt inicial é crucial. É recomendado que ele seja mais simples, assim as execuções de `create_following_promps` serão mais intuitivas.\n",
    "\n",
    "Por fim, caso deseje alterar a mensagem inicial de `create_first_prompt`, basta acessar o arquivo mencionado anteriomente."
   ]
  },
  {
   "cell_type": "markdown",
   "metadata": {},
   "source": [
    "### Clarity for Code Refiner"
   ]
  },
  {
   "cell_type": "code",
   "execution_count": 56,
   "metadata": {},
   "outputs": [
    {
     "data": {
      "text/plain": [
       "{'propriedade': 'clarity',\n",
       " 'valor': 1,\n",
       " 'prompt': \"I need you to act as a code refiner. Given code and a list of edits, please apply them correctly. Just the best version you can build. Remember all the steps, it's important.\"}"
      ]
     },
     "execution_count": 56,
     "metadata": {},
     "output_type": "execute_result"
    }
   ],
   "source": [
    "prompt_1_clarity = create_first_prompt(\"clarity\")\n",
    "prompt_1_clarity"
   ]
  },
  {
   "cell_type": "code",
   "execution_count": 57,
   "metadata": {},
   "outputs": [
    {
     "data": {
      "text/plain": [
       "{'propriedade': 'clarity',\n",
       " 'valor': 2,\n",
       " 'prompt': 'I require your expertise in code refinement. Please review provided code and modify it according to the specified edits. Ensure accuracy and create the most efficient solution by carefully applying each step. '}"
      ]
     },
     "execution_count": 57,
     "metadata": {},
     "output_type": "execute_result"
    }
   ],
   "source": [
    "message = \"Could you make this prompt clearer without changing its structure or meaning? Here’s the original prompt: \"\n",
    "prompt_2_clarity = create_following_prompts(prompt_1_clarity, message)\n",
    "prompt_2_clarity"
   ]
  },
  {
   "cell_type": "code",
   "execution_count": 60,
   "metadata": {},
   "outputs": [
    {
     "data": {
      "text/plain": [
       "{'propriedade': 'clarity',\n",
       " 'valor': 3,\n",
       " 'prompt': \"I need help refining this code! Please take a look at the following code and make necessary edits based on the specifications outlined below. Your goal should be: \\n* **Accuracy:**  Ensure all changes are spot-on and don't introduce unintended side effects.\\n* **Efficiency:** Optimize the solution for speed, memory usage, and any potential bottlenecks within the provided logic.\"}"
      ]
     },
     "execution_count": 60,
     "metadata": {},
     "output_type": "execute_result"
    }
   ],
   "source": [
    "prompt_3_clarity = create_following_prompts(prompt_2_clarity, message)\n",
    "prompt_3_clarity"
   ]
  },
  {
   "cell_type": "code",
   "execution_count": 61,
   "metadata": {},
   "outputs": [],
   "source": [
    "prompts_clarity = [prompt_1_clarity, prompt_2_clarity, prompt_3_clarity]\n",
    "add_prompt_to_json(\"clarity\", prompts_clarity)"
   ]
  },
  {
   "cell_type": "markdown",
   "metadata": {},
   "source": [
    "### Complexity for Code Refiner"
   ]
  },
  {
   "cell_type": "code",
   "execution_count": 21,
   "metadata": {},
   "outputs": [
    {
     "data": {
      "text/plain": [
       "{'propriedade': 'complexity',\n",
       " 'valor': 1,\n",
       " 'prompt': 'I need you to act as a code refiner. You will receive Python code and a list of modifications. Apply these modifications to the given code exactly as specified in the list.'}"
      ]
     },
     "execution_count": 21,
     "metadata": {},
     "output_type": "execute_result"
    }
   ],
   "source": [
    "prompt_1_complexity = create_first_prompt(\"complexity\")\n",
    "prompt_1_complexity"
   ]
  },
  {
   "cell_type": "code",
   "execution_count": 26,
   "metadata": {},
   "outputs": [
    {
     "data": {
      "text/plain": [
       "{'propriedade': 'complexity',\n",
       " 'valor': 2,\n",
       " 'prompt': 'I need you to act as a code refiner. You will receive Python code and a list of modifications. Apply these modifications to the given code exactly as specified in the list.  Please be careful about potential unintended consequences when applying these changes, as there may be multiple valid pathways.'}"
      ]
     },
     "execution_count": 26,
     "metadata": {},
     "output_type": "execute_result"
    }
   ],
   "source": [
    "message = \"make the following prompt more complex\"\n",
    "prompt_2_complexity = create_following_prompts(prompt_1_complexity, message)\n",
    "prompt_2_complexity"
   ]
  },
  {
   "cell_type": "code",
   "execution_count": 27,
   "metadata": {},
   "outputs": [
    {
     "data": {
      "text/plain": [
       "{'propriedade': 'complexity',\n",
       " 'valor': 3,\n",
       " 'prompt': 'I need you to act as a code refiner. You will receive Python code and a list of modifications. Apply these modifications to the given code exactly as specified in the list. Please be careful about potential unintended consequences when applying these changes, as there may be multiple valid pathways.\\n\\n**Please apply each modification precisely as specified, taking into account potential side effects and ramifications.**'}"
      ]
     },
     "execution_count": 27,
     "metadata": {},
     "output_type": "execute_result"
    }
   ],
   "source": [
    "message = \"make the following prompt more complex\"\n",
    "prompt_3_complexity = create_following_prompts(prompt_2_complexity, message)\n",
    "prompt_3_complexity"
   ]
  },
  {
   "cell_type": "code",
   "execution_count": 28,
   "metadata": {},
   "outputs": [],
   "source": [
    "prompts_complexity = [prompt_1_complexity, prompt_2_complexity, prompt_3_complexity]\n",
    "add_prompt_to_json(\"complexity\", prompts_complexity)"
   ]
  },
  {
   "cell_type": "markdown",
   "metadata": {},
   "source": [
    "### Size for Code Refiner"
   ]
  },
  {
   "cell_type": "code",
   "execution_count": 64,
   "metadata": {},
   "outputs": [
    {
     "data": {
      "text/plain": [
       "{'propriedade': 'length',\n",
       " 'valor': 1,\n",
       " 'prompt': 'I need you to act as a code refiner.  You will receive a piece of code and a list of modifications you should apply to the code. Your output must be the updated code reflecting the given modifications precisely.'}"
      ]
     },
     "execution_count": 64,
     "metadata": {},
     "output_type": "execute_result"
    }
   ],
   "source": [
    "prompt_1_size = create_first_prompt(\"length\")\n",
    "prompt_1_size"
   ]
  },
  {
   "cell_type": "code",
   "execution_count": 68,
   "metadata": {},
   "outputs": [
    {
     "data": {
      "text/plain": [
       "{'propriedade': 'length',\n",
       " 'valor': 2,\n",
       " 'prompt': \"I need you to act as a meticulous code refiner.   Please provide improved code for a snippet of a program I've provided, along with suggestions specific changes to incorporate on request.  Ensure your edits accurately reflect these modifications while maintaining the essence and functionality of the original code structure. You are encouraged to leave extra comments explaining your logic in each change. \"}"
      ]
     },
     "execution_count": 68,
     "metadata": {},
     "output_type": "execute_result"
    }
   ],
   "source": [
    "message = \"add about 30 words to this prompt to make it bigger\"\n",
    "prompt_2_size = create_following_prompts(prompt_1_size, message)\n",
    "prompt_2_size"
   ]
  },
  {
   "cell_type": "code",
   "execution_count": 12,
   "metadata": {},
   "outputs": [
    {
     "ename": "NameError",
     "evalue": "name 'prompt_2_size' is not defined",
     "output_type": "error",
     "traceback": [
      "\u001b[1;31m---------------------------------------------------------------------------\u001b[0m",
      "\u001b[1;31mNameError\u001b[0m                                 Traceback (most recent call last)",
      "Cell \u001b[1;32mIn[12], line 1\u001b[0m\n\u001b[1;32m----> 1\u001b[0m prompt_3_size \u001b[38;5;241m=\u001b[39m create_following_prompts(\u001b[43mprompt_2_size\u001b[49m, message)\n\u001b[0;32m      2\u001b[0m prompt_3_size\n",
      "\u001b[1;31mNameError\u001b[0m: name 'prompt_2_size' is not defined"
     ]
    }
   ],
   "source": [
    "prompt_3_size = create_following_prompts(prompt_2_size, message)\n",
    "prompt_3_size"
   ]
  },
  {
   "cell_type": "code",
   "execution_count": 71,
   "metadata": {},
   "outputs": [],
   "source": [
    "prompts_size = [prompt_1_size, prompt_2_size, prompt_3_size]\n",
    "add_prompt_to_json(\"size\", prompts_size)"
   ]
  },
  {
   "cell_type": "markdown",
   "metadata": {},
   "source": [
    "### Specificity for Code Refiner"
   ]
  },
  {
   "cell_type": "code",
   "execution_count": 72,
   "metadata": {},
   "outputs": [
    {
     "data": {
      "text/plain": [
       "{'propriedade': 'specificity',\n",
       " 'valor': 1,\n",
       " 'prompt': 'I need you to act as a code refiner. Given a piece of code and a list of modifications, accurately apply those changes to the code. Focus on careful syntax analysis and correct execution.'}"
      ]
     },
     "execution_count": 72,
     "metadata": {},
     "output_type": "execute_result"
    }
   ],
   "source": [
    "prompt_1_specificity = create_first_prompt(\"specificity\")\n",
    "prompt_1_specificity"
   ]
  },
  {
   "cell_type": "code",
   "execution_count": 75,
   "metadata": {},
   "outputs": [
    {
     "data": {
      "text/plain": [
       "{'propriedade': 'specificity',\n",
       " 'valor': 2,\n",
       " 'prompt': 'Given code snippet below and provided modifications:\\n\\nModify the code to reflect the requested changes.\\nFocus on accurate syntax with regard to language dependencies and proper function calls. Ensure correctness of existing logic based on context and avoid unintended effects.'}"
      ]
     },
     "execution_count": 75,
     "metadata": {},
     "output_type": "execute_result"
    }
   ],
   "source": [
    "message = \"Can you make this prompt a little more specific??\"\n",
    "prompt_2_specificity = create_following_prompts(prompt_1_specificity, message)\n",
    "prompt_2_specificity"
   ]
  },
  {
   "cell_type": "code",
   "execution_count": 103,
   "metadata": {},
   "outputs": [
    {
     "data": {
      "text/plain": [
       "{'propriedade': 'specificity',\n",
       " 'valor': 2,\n",
       " 'prompt': 'Given a piece of Python code (`code`) and a list of modifications (`modifications`), accurately apply those changes to the code (`refined_code`). 🎯  Pay meticulous attention to details, particularly to: \\n* Carefully parsing variable types in each step.\\n* Ensuring correct function calls and arguments for smooth execution. \\n\\nProvide a detailed explanation justifying every modification within the refactored code and its impact on overall behavior (Optional).'}"
      ]
     },
     "execution_count": 103,
     "metadata": {},
     "output_type": "execute_result"
    }
   ],
   "source": [
    "prompt_3_specificity = create_following_prompts(prompt_1_specificity, message)\n",
    "prompt_3_specificity"
   ]
  },
  {
   "cell_type": "code",
   "execution_count": 104,
   "metadata": {},
   "outputs": [],
   "source": [
    "prompts_specificity = [prompt_1_specificity, prompt_2_specificity, prompt_3_specificity]\n",
    "add_prompt_to_json(\"specificity\", prompts_specificity)"
   ]
  },
  {
   "cell_type": "code",
   "execution_count": null,
   "metadata": {},
   "outputs": [],
   "source": []
  }
 ],
 "metadata": {
  "kernelspec": {
   "display_name": "Python 3",
   "language": "python",
   "name": "python3"
  },
  "language_info": {
   "codemirror_mode": {
    "name": "ipython",
    "version": 3
   },
   "file_extension": ".py",
   "mimetype": "text/x-python",
   "name": "python",
   "nbconvert_exporter": "python",
   "pygments_lexer": "ipython3",
   "version": "3.12.1"
  }
 },
 "nbformat": 4,
 "nbformat_minor": 2
}
