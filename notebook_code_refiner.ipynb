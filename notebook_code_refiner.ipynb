{
 "cells": [
  {
   "cell_type": "code",
   "execution_count": 2,
   "metadata": {},
   "outputs": [],
   "source": [
    "from scripts_coder import *\n",
    "from openai import OpenAI\n",
    "from pydantic import BaseModel, Field\n",
    "from typing import List\n",
    "import instructor\n",
    "import json\n",
    "\n",
    "class Prompts(BaseModel):\n",
    "    prompt: str \n",
    "\n",
    "client = instructor.from_openai(\n",
    "    OpenAI(\n",
    "        base_url=\"http://localhost:11434/v1\",\n",
    "        api_key=\"ollama\",  \n",
    "    ),\n",
    "    mode=instructor.Mode.JSON,\n",
    ")\n",
    "\n",
    "prompts = []\n",
    "\n",
    "\n",
    "def create_first_prompt(propriedade):    \n",
    "        resp = client.chat.completions.create(\n",
    "            model=\"gemma2:2b\",\n",
    "            messages=[\n",
    "                {\n",
    "                    \"role\": \"user\",\n",
    "                    \"content\":  f\"I need you to act as a prompt designer and create an initialization prompt for \\\n",
    "                        a 'code refiner' agent within a reinforcement learning environment. The purpose of this \\\n",
    "                        agent is to receive code and a list of modifications, then apply these changes \\\n",
    "                        accurately. When designing this prompt, start with a statement like 'I need \\\n",
    "                        you to act as a code refiner,' and continue with instructions on how the agent \\\n",
    "                        should refine code using the provided list of changes. However, ensure that \\\n",
    "                        the prompt has a poor {propriedade}, (rated 1 on a scale of 5).\"\n",
    "                }\n",
    "            ],\n",
    "            response_model=Prompts,\n",
    "        )\n",
    "        \n",
    "        prompt = resp.prompt\n",
    "        prompts_formated = {\"propriedade\": propriedade, \"valor\": 1, \"prompt\": prompt}\n",
    "\n",
    "        return prompts_formated\n",
    "\n",
    "def create_following_prompts(previous_prompt, message):  \n",
    "    resp = client.chat.completions.create(\n",
    "        model=\"gemma2:2b\",\n",
    "        messages=[\n",
    "            {\n",
    "                \"role\": \"user\",\n",
    "                \"content\": f\"{message}: {previous_prompt[\"prompt\"]}\",  \n",
    "            }\n",
    "        ],\n",
    "        response_model=Prompts,\n",
    "    )\n",
    "    prompt = resp.prompt\n",
    "    prompts_formated = {\"propriedade\": previous_prompt[\"propriedade\"], \"valor\": previous_prompt[\"valor\"] + 1, \"prompt\": prompt}\n",
    "\n",
    "    return prompts_formated\n",
    "\n",
    "    \n",
    "def add_prompt_to_json(propriedade, prompts):\n",
    "    json_filename = f'prompts_{propriedade}_code_refiner.json'\n",
    "    with open(json_filename, 'w', encoding='utf-8') as json_file:\n",
    "        json.dump(prompts, json_file, ensure_ascii=False, indent=2)\n"
   ]
  },
  {
   "cell_type": "markdown",
   "metadata": {},
   "source": [
    "### Clarity for Code Refiner"
   ]
  },
  {
   "cell_type": "code",
   "execution_count": 4,
   "metadata": {},
   "outputs": [
    {
     "data": {
      "text/plain": [
       "{'propriedade': 'clarity',\n",
       " 'valor': 1,\n",
       " 'prompt': 'I need you to act as a code refiner. You will get some code and a list of things to change it, like putting commas here and deleting those lines over there.  Just do those changes! Like real code refinement!'}"
      ]
     },
     "execution_count": 4,
     "metadata": {},
     "output_type": "execute_result"
    }
   ],
   "source": [
    "prompt_1_clarity = create_first_prompt(\"clarity\")\n",
    "prompt_1_clarity"
   ]
  },
  {
   "cell_type": "code",
   "execution_count": 29,
   "metadata": {},
   "outputs": [
    {
     "data": {
      "text/plain": [
       "{'propriedade': 'clarity',\n",
       " 'valor': 2,\n",
       " 'prompt': 'Please provide the code snippet along with a detailed list of changes you want to make: \\n\\n* Specifically, point out which lines need to be changed (line numbers or characters).  \\n\\nExample:\\n ```python\\ndef calculate_sum(numbers):\\n    # Calculate the sum\\n    return sum(numbers)   \\n ```'}"
      ]
     },
     "execution_count": 29,
     "metadata": {},
     "output_type": "execute_result"
    }
   ],
   "source": [
    "message = \"I found this prompt not very clear to understand, plase make it a BIT more clearer\"\n",
    "prompt_2_clarity = create_following_prompts(prompt_1_clarity, message)\n",
    "prompt_2_clarity"
   ]
  },
  {
   "cell_type": "code",
   "execution_count": 30,
   "metadata": {},
   "outputs": [],
   "source": [
    "# prompt_3_clarity = create_following_prompts(prompt_2_clarity, message)\n",
    "# prompt_3_clarity"
   ]
  },
  {
   "cell_type": "code",
   "execution_count": 31,
   "metadata": {},
   "outputs": [],
   "source": [
    "# prompts_clarity = [prompt_1_clarity, prompt_2_clarity, prompt_3_clarity]\n",
    "# add_prompt_to_json(\"clarity\", prompts_clarity)"
   ]
  },
  {
   "cell_type": "markdown",
   "metadata": {},
   "source": [
    "### Complexity for Code Refiner"
   ]
  },
  {
   "cell_type": "code",
   "execution_count": 33,
   "metadata": {},
   "outputs": [],
   "source": [
    "# prompt_1_complexity = create_complexity_prompts(1)\n",
    "# prompt_1_complexity"
   ]
  },
  {
   "cell_type": "code",
   "execution_count": 34,
   "metadata": {},
   "outputs": [],
   "source": [
    "# prompt_2_complexity = create_complexity_prompts(2)\n",
    "# prompt_2_complexity"
   ]
  },
  {
   "cell_type": "code",
   "execution_count": 35,
   "metadata": {},
   "outputs": [],
   "source": [
    "# prompt_3_complexity = create_complexity_prompts(3)\n",
    "# prompt_3_complexity"
   ]
  },
  {
   "cell_type": "code",
   "execution_count": 37,
   "metadata": {},
   "outputs": [],
   "source": [
    "# prompts_complexity = [prompt_1_complexity, prompt_2_complexity, prompt_3_complexity]\n",
    "# add_prompt_to_json(\"complexity\", prompts_complexity)"
   ]
  },
  {
   "cell_type": "markdown",
   "metadata": {},
   "source": [
    "### Size for Code Refiner"
   ]
  },
  {
   "cell_type": "code",
   "execution_count": 38,
   "metadata": {},
   "outputs": [],
   "source": [
    "# prompt_1_size = create_first_prompt(\"size\")\n",
    "# prompt_1_size"
   ]
  },
  {
   "cell_type": "code",
   "execution_count": 39,
   "metadata": {},
   "outputs": [],
   "source": [
    "# message = \"add about 30 words to this prompt to make it bigger\"\n",
    "# prompt_2_size = create_following_prompts(prompt_1_size, message)\n",
    "# prompt_2_size"
   ]
  },
  {
   "cell_type": "code",
   "execution_count": 40,
   "metadata": {},
   "outputs": [],
   "source": [
    "# prompt_3_size = create_following_prompts(prompt_2_size, message)\n",
    "# prompt_3_size"
   ]
  },
  {
   "cell_type": "code",
   "execution_count": 41,
   "metadata": {},
   "outputs": [],
   "source": [
    "# prompts_size = [prompt_1_size, prompt_2_size, prompt_3_size]\n",
    "# add_prompt_to_json(\"size\", prompts_size)"
   ]
  },
  {
   "cell_type": "markdown",
   "metadata": {},
   "source": [
    "### Specificity for Code Refiner"
   ]
  },
  {
   "cell_type": "code",
   "execution_count": 42,
   "metadata": {},
   "outputs": [],
   "source": [
    "# prompt_1_specificity = create_first_prompt(\"specificity\")\n",
    "# prompt_1_specificity"
   ]
  },
  {
   "cell_type": "code",
   "execution_count": 43,
   "metadata": {},
   "outputs": [],
   "source": [
    "# message = \"Can you make this prompt a little more specific??\"\n",
    "# prompt_2_specificity = create_following_prompts(prompt_1_specificity, message)\n",
    "# prompt_2_specificity"
   ]
  },
  {
   "cell_type": "code",
   "execution_count": 44,
   "metadata": {},
   "outputs": [],
   "source": [
    "# prompt_3_specificity = create_following_prompts(prompt_2_specificity, message)\n",
    "# prompt_3_specificity"
   ]
  },
  {
   "cell_type": "code",
   "execution_count": 45,
   "metadata": {},
   "outputs": [],
   "source": [
    "# prompts_specificity = [prompt_1_specificity, prompt_2_specificity, prompt_3_specificity]\n",
    "# add_prompt_to_json(\"specificity\", prompts_specificity)"
   ]
  },
  {
   "cell_type": "code",
   "execution_count": null,
   "metadata": {},
   "outputs": [],
   "source": []
  }
 ],
 "metadata": {
  "kernelspec": {
   "display_name": "Python 3",
   "language": "python",
   "name": "python3"
  },
  "language_info": {
   "codemirror_mode": {
    "name": "ipython",
    "version": 3
   },
   "file_extension": ".py",
   "mimetype": "text/x-python",
   "name": "python",
   "nbconvert_exporter": "python",
   "pygments_lexer": "ipython3",
   "version": "3.12.1"
  }
 },
 "nbformat": 4,
 "nbformat_minor": 2
}
